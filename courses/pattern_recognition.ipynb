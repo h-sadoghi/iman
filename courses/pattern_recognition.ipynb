{
 "cells": [
  {
   "cell_type": "markdown",
   "metadata": {},
   "source": [
    "# Pattern Recognition"
   ]
  },
  {
   "cell_type": "markdown",
   "metadata": {},
   "source": [
    "<!-- ![Pattern](PR.JPG) -->\n",
    "<img src=\"PR.jpg\" alt=\"Pattern Recognition\" width=\"150\" height=\"150\">\n",
    "\n",
    "**PR** is a field of study focused on identifying patterns and trends within data to make informed decisions.\n",
    "In this course, students will learn how PR techniques are used in various applications such as image and text recognition. By mastering PR algorithms, students will gain valuable skills in data analysis and decision-making processes.\n",
    "\n",
    "## Sections of Pattern Recognition\n",
    "- [Introduction of Pattern Recognition](PR/Introduction/PR_intro.ipynb)\n",
    "- [Data Visualization](PR/Visualization/PR_intro_Visualization.ipynb)\n",
    "- [Clustering](PR/Clustering/PR_intro_Clustering.ipynb)\n",
    "- [Regression](PR/Regression/PR_intro_Regression.ipynb)\n",
    "- [Classification](PR/Classification/PR_intro_Classification.ipynb)\n",
    "\n",
    "We follow remaining contents in **Machine Learning** include:\n",
    "Feature Reduction, statistical Regression, ...\n"
   ]
  }
 ],
 "metadata": {
  "language_info": {
   "name": "python"
  }
 },
 "nbformat": 4,
 "nbformat_minor": 2
}
