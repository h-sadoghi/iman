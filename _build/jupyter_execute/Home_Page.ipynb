{
 "cells": [
  {
   "cell_type": "markdown",
   "metadata": {},
   "source": [
    "<center>\n",
    "<img src=\"Hadi_Sadoghi_Yazdi.png\" alt=\"Hadi Sadoghi Yazdi\" style=\"width:50%; background: transparent;\">\n",
    "</center>\n",
    "\n",
    "<!DOCTYPE html>\n",
    "<html lang=\"en\">\n",
    "<head>\n",
    "<meta charset=\"UTF-8\">\n",
    "<meta name=\"viewport\" content=\"width=device-width, initial-scale=1.0\">\n",
    "<style>\n",
    "    .navbar {\n",
    "        overflow: hidden;\n",
    "        text-align: center;\n",
    "        border-bottom: 2px solid #B25E07;\n",
    "    }\n",
    "    .navbar a {\n",
    "        display: inline-block;\n",
    "        color: inherit;\n",
    "        text-align: center;\n",
    "        padding: 14px 20px;\n",
    "        text-decoration: none;\n",
    "        font-size: 17px;\n",
    "        border: 2px solid transparent;\n",
    "    }\n",
    "    .navbar a:hover, .navbar a.active {\n",
    "        border-color: #B25E07;\n",
    "        color: #B25E07;\n",
    "    }\n",
    "</style>\n",
    "</head>\n",
    "<body>\n",
    "\n",
    "\n",
    "<div class=\"navbar\">\n",
    "  <a href=\"Home_Page.html\" class=\"active\">Home Page</a>\n",
    "  <a href=\"Courses.html\">Courses</a>\n",
    "  <a href=\"Blog.html\">Blog</a>\n",
    "  <a href=\"Contact_Me.html\">Contact Me</a>\n",
    "  <a href=\"About_Me.html\">About Me</a>\n",
    "  <a href=\"https://scholar.google.com/citations?user=Z3XAKb0AAAAJ&hl=en\" target=\"_blank\">My Google scholar</a>\n",
    "</div>\n",
    "\n",
    "</body>\n",
    "</html>\n"
   ]
  },
  {
   "cell_type": "markdown",
   "metadata": {},
   "source": [
    "## Welcome to my personal Website!\n",
    "\n",
    "---\n",
    "\n",
    "Discover the students I mentor, their projects, and the courses I teach. As a **Professor** at **Ferdowsi University of Mashhad**, I focus on **machine learning**, **pattern recognition**, **Signal processing**, and **image processing**.\n",
    "\n",
    "### My positions in Ferdowsi University\n",
    "- Academic staff of the university\n",
    "- Research vice president of the university\n",
    "- Director of the pattern recognition laboratory\n",
    "\n",
    "for more details you can see **My Resume** in the link below:\n",
    "[Resume - Hadi Sadoghi Yazdi](About_Me.ipynb)\n",
    "\n",
    "---\n",
    "\n",
    "Thank you for visiting, and we hope you find this site both informative and inspiring.\n",
    "\n",
    "**Warm regards,**\n",
    "\n",
    "*Dr. Sadoghi*\n"
   ]
  }
 ],
 "metadata": {
  "kernelspec": {
   "display_name": "Howsam",
   "language": "python",
   "name": "python3"
  },
  "language_info": {
   "codemirror_mode": {
    "name": "ipython",
    "version": 3
   },
   "file_extension": ".py",
   "mimetype": "text/x-python",
   "name": "python",
   "nbconvert_exporter": "python",
   "pygments_lexer": "ipython3",
   "version": "3.10.13"
  }
 },
 "nbformat": 4,
 "nbformat_minor": 2
}