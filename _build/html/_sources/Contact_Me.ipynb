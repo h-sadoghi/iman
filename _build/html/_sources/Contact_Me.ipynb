{
 "cells": [
  {
   "cell_type": "markdown",
   "metadata": {},
   "source": [
    "<center>\n",
    "<img src=\"Hadi_Sadoghi_Yazdi.png\" alt=\"Hadi Sadoghi Yazdi\" style=\"width:50%; background: transparent;\">\n",
    "</center>\n",
    "\n",
    "<!DOCTYPE html>\n",
    "<html lang=\"en\">\n",
    "<head>\n",
    "<meta charset=\"UTF-8\">\n",
    "<meta name=\"viewport\" content=\"width=device-width, initial-scale=1.0\">\n",
    "<style>\n",
    "    .navbar {\n",
    "        overflow: hidden;\n",
    "        text-align: center;\n",
    "        border-bottom: 2px solid #B25E07;\n",
    "    }\n",
    "    .navbar a {\n",
    "        display: inline-block;\n",
    "        color: inherit;\n",
    "        text-align: center;\n",
    "        padding: 14px 20px;\n",
    "        text-decoration: none;\n",
    "        font-size: 17px;\n",
    "        border: 2px solid transparent;\n",
    "    }\n",
    "    .navbar a:hover, .navbar a.active {\n",
    "        border-color: #B25E07;\n",
    "        color: #B25E07;\n",
    "    }\n",
    "</style>\n",
    "</head>\n",
    "<body>\n",
    "\n",
    "\n",
    "<div class=\"navbar\">\n",
    "  <a href=\"Home_Page.html\">Home Page</a>\n",
    "  <a href=\"Courses.html\">Courses</a>\n",
    "  <a href=\"Blog.html\">Blog</a>\n",
    "  <a href=\"Contact_Me.html\" class=\"active\">Contact Me</a>\n",
    "  <a href=\"About_Me.html\">About Me</a>\n",
    "  <a href=\"https://scholar.google.com/citations?user=Z3XAKb0AAAAJ&hl=en\" target=\"_blank\">My Google scholar</a>\n",
    "</div>\n",
    "\n",
    "</body>\n",
    "</html>\n"
   ]
  },
  {
   "cell_type": "markdown",
   "metadata": {},
   "source": [
    "# Contact Me"
   ]
  },
  {
   "cell_type": "markdown",
   "metadata": {},
   "source": [
    " Ways of communication with **Dr. Hadi Sadoghi Yazdi**"
   ]
  },
  {
   "cell_type": "markdown",
   "metadata": {},
   "source": [
    "- **Address:**  [Ferdowsi University of Mashhad, Mashahd, Iran](https://maps.google.com/?q=Ferdowsi%20University%20of%20Mashhad,%20Mashhad,%20Iran,%20P.%20O.%20Box:%2091779-48974), P. O. Box: 91779-48974\n",
    "\n",
    "- **Tel (Landline):** [+98-513-8805117](tel:+985138805117)\n",
    "\n",
    "- **Mobile:**  [+98–9151738312](tel:+989151738312)\n",
    "\n",
    "- **E-mail:** [h-sadoghi[at]um.ac.ir](mailto:h-sadoghi@um.ac.ir)\n"
   ]
  }
 ],
 "metadata": {
  "language_info": {
   "name": "python"
  }
 },
 "nbformat": 4,
 "nbformat_minor": 2
}
